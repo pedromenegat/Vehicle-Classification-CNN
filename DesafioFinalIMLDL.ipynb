{
  "nbformat": 4,
  "nbformat_minor": 0,
  "metadata": {
    "colab": {
      "name": "desafiofinalv2.ipynb",
      "provenance": [],
      "collapsed_sections": []
    },
    "kernelspec": {
      "name": "python3",
      "display_name": "Python 3"
    },
    "accelerator": "GPU",
    "widgets": {
      "application/vnd.jupyter.widget-state+json": {
        "4df026af763d44d899a2cf2f17a3c037": {
          "model_module": "@jupyter-widgets/controls",
          "model_name": "HBoxModel",
          "state": {
            "_view_name": "HBoxView",
            "_dom_classes": [],
            "_model_name": "HBoxModel",
            "_view_module": "@jupyter-widgets/controls",
            "_model_module_version": "1.5.0",
            "_view_count": null,
            "_view_module_version": "1.5.0",
            "box_style": "",
            "layout": "IPY_MODEL_1b0c739b9d3243b6ad90556584d78479",
            "_model_module": "@jupyter-widgets/controls",
            "children": [
              "IPY_MODEL_f208221985e54df897f07967162c8c1d",
              "IPY_MODEL_91ead4d772e342c2982ab932a6b62a47"
            ]
          }
        },
        "1b0c739b9d3243b6ad90556584d78479": {
          "model_module": "@jupyter-widgets/base",
          "model_name": "LayoutModel",
          "state": {
            "_view_name": "LayoutView",
            "grid_template_rows": null,
            "right": null,
            "justify_content": null,
            "_view_module": "@jupyter-widgets/base",
            "overflow": null,
            "_model_module_version": "1.2.0",
            "_view_count": null,
            "flex_flow": null,
            "width": null,
            "min_width": null,
            "border": null,
            "align_items": null,
            "bottom": null,
            "_model_module": "@jupyter-widgets/base",
            "top": null,
            "grid_column": null,
            "overflow_y": null,
            "overflow_x": null,
            "grid_auto_flow": null,
            "grid_area": null,
            "grid_template_columns": null,
            "flex": null,
            "_model_name": "LayoutModel",
            "justify_items": null,
            "grid_row": null,
            "max_height": null,
            "align_content": null,
            "visibility": null,
            "align_self": null,
            "height": null,
            "min_height": null,
            "padding": null,
            "grid_auto_rows": null,
            "grid_gap": null,
            "max_width": null,
            "order": null,
            "_view_module_version": "1.2.0",
            "grid_template_areas": null,
            "object_position": null,
            "object_fit": null,
            "grid_auto_columns": null,
            "margin": null,
            "display": null,
            "left": null
          }
        },
        "f208221985e54df897f07967162c8c1d": {
          "model_module": "@jupyter-widgets/controls",
          "model_name": "FloatProgressModel",
          "state": {
            "_view_name": "ProgressView",
            "style": "IPY_MODEL_d71a570026a240e7b921b0a122ec363a",
            "_dom_classes": [],
            "description": "100%",
            "_model_name": "FloatProgressModel",
            "bar_style": "success",
            "max": 87306240,
            "_view_module": "@jupyter-widgets/controls",
            "_model_module_version": "1.5.0",
            "value": 87306240,
            "_view_count": null,
            "_view_module_version": "1.5.0",
            "orientation": "horizontal",
            "min": 0,
            "description_tooltip": null,
            "_model_module": "@jupyter-widgets/controls",
            "layout": "IPY_MODEL_b7ae2c632c8840cc9f8108c83e85f578"
          }
        },
        "91ead4d772e342c2982ab932a6b62a47": {
          "model_module": "@jupyter-widgets/controls",
          "model_name": "HTMLModel",
          "state": {
            "_view_name": "HTMLView",
            "style": "IPY_MODEL_8bff461de7304f919152f3b96dd41091",
            "_dom_classes": [],
            "description": "",
            "_model_name": "HTMLModel",
            "placeholder": "​",
            "_view_module": "@jupyter-widgets/controls",
            "_model_module_version": "1.5.0",
            "value": " 83.3M/83.3M [05:43&lt;00:00, 254kB/s]",
            "_view_count": null,
            "_view_module_version": "1.5.0",
            "description_tooltip": null,
            "_model_module": "@jupyter-widgets/controls",
            "layout": "IPY_MODEL_cd25158d2cff455eab568b4c1dbcf189"
          }
        },
        "d71a570026a240e7b921b0a122ec363a": {
          "model_module": "@jupyter-widgets/controls",
          "model_name": "ProgressStyleModel",
          "state": {
            "_view_name": "StyleView",
            "_model_name": "ProgressStyleModel",
            "description_width": "initial",
            "_view_module": "@jupyter-widgets/base",
            "_model_module_version": "1.5.0",
            "_view_count": null,
            "_view_module_version": "1.2.0",
            "bar_color": null,
            "_model_module": "@jupyter-widgets/controls"
          }
        },
        "b7ae2c632c8840cc9f8108c83e85f578": {
          "model_module": "@jupyter-widgets/base",
          "model_name": "LayoutModel",
          "state": {
            "_view_name": "LayoutView",
            "grid_template_rows": null,
            "right": null,
            "justify_content": null,
            "_view_module": "@jupyter-widgets/base",
            "overflow": null,
            "_model_module_version": "1.2.0",
            "_view_count": null,
            "flex_flow": null,
            "width": null,
            "min_width": null,
            "border": null,
            "align_items": null,
            "bottom": null,
            "_model_module": "@jupyter-widgets/base",
            "top": null,
            "grid_column": null,
            "overflow_y": null,
            "overflow_x": null,
            "grid_auto_flow": null,
            "grid_area": null,
            "grid_template_columns": null,
            "flex": null,
            "_model_name": "LayoutModel",
            "justify_items": null,
            "grid_row": null,
            "max_height": null,
            "align_content": null,
            "visibility": null,
            "align_self": null,
            "height": null,
            "min_height": null,
            "padding": null,
            "grid_auto_rows": null,
            "grid_gap": null,
            "max_width": null,
            "order": null,
            "_view_module_version": "1.2.0",
            "grid_template_areas": null,
            "object_position": null,
            "object_fit": null,
            "grid_auto_columns": null,
            "margin": null,
            "display": null,
            "left": null
          }
        },
        "8bff461de7304f919152f3b96dd41091": {
          "model_module": "@jupyter-widgets/controls",
          "model_name": "DescriptionStyleModel",
          "state": {
            "_view_name": "StyleView",
            "_model_name": "DescriptionStyleModel",
            "description_width": "",
            "_view_module": "@jupyter-widgets/base",
            "_model_module_version": "1.5.0",
            "_view_count": null,
            "_view_module_version": "1.2.0",
            "_model_module": "@jupyter-widgets/controls"
          }
        },
        "cd25158d2cff455eab568b4c1dbcf189": {
          "model_module": "@jupyter-widgets/base",
          "model_name": "LayoutModel",
          "state": {
            "_view_name": "LayoutView",
            "grid_template_rows": null,
            "right": null,
            "justify_content": null,
            "_view_module": "@jupyter-widgets/base",
            "overflow": null,
            "_model_module_version": "1.2.0",
            "_view_count": null,
            "flex_flow": null,
            "width": null,
            "min_width": null,
            "border": null,
            "align_items": null,
            "bottom": null,
            "_model_module": "@jupyter-widgets/base",
            "top": null,
            "grid_column": null,
            "overflow_y": null,
            "overflow_x": null,
            "grid_auto_flow": null,
            "grid_area": null,
            "grid_template_columns": null,
            "flex": null,
            "_model_name": "LayoutModel",
            "justify_items": null,
            "grid_row": null,
            "max_height": null,
            "align_content": null,
            "visibility": null,
            "align_self": null,
            "height": null,
            "min_height": null,
            "padding": null,
            "grid_auto_rows": null,
            "grid_gap": null,
            "max_width": null,
            "order": null,
            "_view_module_version": "1.2.0",
            "grid_template_areas": null,
            "object_position": null,
            "object_fit": null,
            "grid_auto_columns": null,
            "margin": null,
            "display": null,
            "left": null
          }
        }
      }
    }
  },
  "cells": [
    {
      "cell_type": "code",
      "metadata": {
        "id": "74o2eKxA5G3c",
        "outputId": "c357d3b4-79da-422d-b815-8c68d5a9bb65",
        "colab": {
          "base_uri": "https://localhost:8080/",
          "height": 34
        }
      },
      "source": [
        "from google.colab import drive\n",
        "\n",
        "drive.mount('/content/drive/')"
      ],
      "execution_count": 1,
      "outputs": [
        {
          "output_type": "stream",
          "text": [
            "Mounted at /content/drive/\n"
          ],
          "name": "stdout"
        }
      ]
    },
    {
      "cell_type": "markdown",
      "metadata": {
        "id": "m1kMfB_DisEN"
      },
      "source": [
        "# Link para a pasta do dataset: \n",
        "https://drive.google.com/drive/folders/15OS8-Ic3cFtRvv_nI_x03lkQxzqksCOz?usp=sharing\n",
        "\n"
      ]
    },
    {
      "cell_type": "code",
      "metadata": {
        "id": "dZ4J-AcN7rZ_"
      },
      "source": [
        "import os\n",
        "\n",
        "import numpy as np\n",
        "\n",
        "from matplotlib import pyplot\n",
        "\n",
        "%matplotlib inline\n",
        "\n",
        "import torch\n",
        "\n",
        "from torchvision import transforms, models\n",
        "from torchvision.datasets import ImageFolder\n",
        "from torch.utils.data import DataLoader, random_split\n",
        "\n",
        "from torch import nn\n",
        "from torch import optim\n",
        "\n",
        "import time"
      ],
      "execution_count": 2,
      "outputs": []
    },
    {
      "cell_type": "markdown",
      "metadata": {
        "id": "WGFgks7LAXoK"
      },
      "source": [
        "# Função para testar a disponibilidade de uma GPU"
      ]
    },
    {
      "cell_type": "code",
      "metadata": {
        "id": "9qRN6iNU8KPX",
        "outputId": "e19cf8a9-358f-4703-bb13-77339fdf8fcc",
        "colab": {
          "base_uri": "https://localhost:8080/",
          "height": 34
        }
      },
      "source": [
        "def testar_gpu():\n",
        "\ttrain_on_gpu = torch.cuda.is_available() \n",
        "\tif train_on_gpu: \n",
        "\t\tdevice = torch.device('cuda') \n",
        "\t\tprint(\"Treinando na GPU\") \n",
        "\telse: \n",
        "\t\tdevice = torch.device('cpu') \n",
        "\t\tprint(\"GPU indisponível, treinando na CPU\")\n",
        "\treturn device\n",
        "\n",
        "device = testar_gpu()"
      ],
      "execution_count": 3,
      "outputs": [
        {
          "output_type": "stream",
          "text": [
            "Treinando na GPU\n"
          ],
          "name": "stdout"
        }
      ]
    },
    {
      "cell_type": "markdown",
      "metadata": {
        "id": "T-LVGxAkAiX1"
      },
      "source": [
        "# Abrindo as imagens do dataset e convertendo-as para tensores de dimensão 224x224"
      ]
    },
    {
      "cell_type": "code",
      "metadata": {
        "id": "SjMCt6LR3b4x"
      },
      "source": [
        "transform = transforms.Compose([transforms.Resize((224,224)), transforms.ToTensor()])\n",
        "data = ImageFolder('/content/drive/My Drive/DesafioFinal/dataset', transform=transform)"
      ],
      "execution_count": 4,
      "outputs": []
    },
    {
      "cell_type": "code",
      "metadata": {
        "id": "0DeAEtjDIYNL",
        "outputId": "19dd339c-e737-44f1-ee07-a920b54aa703",
        "colab": {
          "base_uri": "https://localhost:8080/",
          "height": 51
        }
      },
      "source": [
        "print('Total de imagens no dataset:', len(data))\n",
        "percentage = 60 \n",
        "n_treino = round(len(data)* (percentage/100))\n",
        "\n",
        "n_teste = round(len(data)* (100 - percentage)/(2*100)) \n",
        "n_valid = len(data) - n_treino - n_teste\n",
        "\n",
        "print('nº de imagens para treino: {:}'.format(n_treino) +'; nº de imagens para teste: {:}'.format(n_teste) +'; nº de imagens para validação: {:}'.format(n_valid) + '.')\n",
        "data_train, data_test, data_valid = random_split(data, [n_treino, n_teste, n_valid], generator=torch.Generator().manual_seed(42))"
      ],
      "execution_count": 5,
      "outputs": [
        {
          "output_type": "stream",
          "text": [
            "Total de imagens no dataset: 4435\n",
            "nº de imagens para treino: 2661; nº de imagens para teste: 887; nº de imagens para validação: 887.\n"
          ],
          "name": "stdout"
        }
      ]
    },
    {
      "cell_type": "code",
      "metadata": {
        "id": "KZVrKVj0Jkro"
      },
      "source": [
        "batch_size = 100 \n",
        "loader_train, loader_test, loader_valid = DataLoader(data_train, batch_size=batch_size), DataLoader(data_test, batch_size=1), DataLoader(data_valid, batch_size=1)"
      ],
      "execution_count": 6,
      "outputs": []
    },
    {
      "cell_type": "markdown",
      "metadata": {
        "id": "xZcJElXs8zge"
      },
      "source": [
        "# Importando uma ResNet34\n",
        "\n",
        "Como este é um problema relativamente simples, não foi necessário utilizar um modelo complexo para alcançar bons resultados. Assim, os parâmetros e os valores dos hiperparâmetros escolhidos também foram simples e tradicionais. \n",
        "\n",
        "Abaixo descrevo as decisões tomadas na escolha dos parâmetros e dos hiperparâmetros:\n",
        "\n",
        "\n",
        "**ResNet**\n",
        "\n",
        "Escolhi a ResNet34 por ser a que se encaixa melhor neste tipo de problema. Ela não é tão simples quanto a ResNet18 e qualquer uma das ResNets maiores que a ResNet34 trariam uma complexidade desnecessária para o modelo.  \n",
        "\n",
        "\n",
        "**Função de perda**\n",
        "\n",
        "Utilizei a NLLLoss porque, além de ser uma das funções que eu mais estou familiarizado, o funcionamento dela é simples e eficaz.\n",
        "\n",
        "\n",
        "**Otimizador**\n",
        "\n",
        "Escolhi um SGD com momentum de 0.9 e weight decay de 0.005. Fiz essa escolha por me sentir mais confortável e seguro na utilização de um SGD do que dos outros otimizadores, no momento da implementação deste modelo. \n",
        "\n",
        "\n",
        "**Learning Rate**\n",
        "\n",
        "O valor do lr foi de 0.005, o que é um valor bastante eficiente. Levando em conta o momentum do SGD, é possível alcançar ótimos resultados numa quantidade baixa de epochs.\n",
        "\n",
        "\n",
        "**Epochs**\n",
        "\n",
        "Um total de 15 epochs foi suficiente para alcançar um resultado satisfatório. Seria possível reduzir esse valor até para 10 epochs sem prejudicar muito o resultado do modelo, mas como o objetivo era alcançar a maior acurácia possível, decidi utilizar 15 epochs.\n",
        "\n",
        "\n",
        "\n"
      ]
    },
    {
      "cell_type": "code",
      "metadata": {
        "id": "ziZb-15SSkul"
      },
      "source": [
        "def importNN():\n",
        "\n",
        "    model=0\n",
        "    classifier = 0 \n",
        "\n",
        "    model = models.resnet34(pretrained=True)\n",
        "\n",
        "    for param in model.parameters():\n",
        "          param.requires_grad = False\n",
        "\n",
        "          classifier = nn.Sequential(nn.Linear(512,256),\n",
        "                                      nn.ReLU(),\n",
        "                                      nn.Dropout(p=0.2),\n",
        "                                      nn.Linear(256,6),\n",
        "                                      nn.LogSoftmax(dim=1))\n",
        "    \n",
        "    model.fc = classifier\n",
        "\n",
        "    return model"
      ],
      "execution_count": 7,
      "outputs": []
    },
    {
      "cell_type": "code",
      "metadata": {
        "id": "KL6el0auTEWQ",
        "outputId": "50c35f35-abf1-46a4-d778-44b012d33b34",
        "colab": {
          "base_uri": "https://localhost:8080/",
          "height": 83,
          "referenced_widgets": [
            "4df026af763d44d899a2cf2f17a3c037",
            "1b0c739b9d3243b6ad90556584d78479",
            "f208221985e54df897f07967162c8c1d",
            "91ead4d772e342c2982ab932a6b62a47",
            "d71a570026a240e7b921b0a122ec363a",
            "b7ae2c632c8840cc9f8108c83e85f578",
            "8bff461de7304f919152f3b96dd41091",
            "cd25158d2cff455eab568b4c1dbcf189"
          ]
        }
      },
      "source": [
        "model = importNN().to(device)"
      ],
      "execution_count": 8,
      "outputs": [
        {
          "output_type": "stream",
          "text": [
            "Downloading: \"https://download.pytorch.org/models/resnet34-333f7ec4.pth\" to /root/.cache/torch/hub/checkpoints/resnet34-333f7ec4.pth\n"
          ],
          "name": "stderr"
        },
        {
          "output_type": "display_data",
          "data": {
            "application/vnd.jupyter.widget-view+json": {
              "model_id": "4df026af763d44d899a2cf2f17a3c037",
              "version_minor": 0,
              "version_major": 2
            },
            "text/plain": [
              "HBox(children=(FloatProgress(value=0.0, max=87306240.0), HTML(value='')))"
            ]
          },
          "metadata": {
            "tags": []
          }
        },
        {
          "output_type": "stream",
          "text": [
            "\n"
          ],
          "name": "stdout"
        }
      ]
    },
    {
      "cell_type": "code",
      "metadata": {
        "id": "ufudrSBfOsY_"
      },
      "source": [
        "def define(model, lr):\n",
        "\n",
        "    criterion = nn.NLLLoss()\n",
        "\n",
        "    optimizer = torch.optim.SGD(model.fc.parameters(), lr=lr, momentum=0.9, weight_decay=0.005)\n",
        "\n",
        "    return optimizer, criterion"
      ],
      "execution_count": 9,
      "outputs": []
    },
    {
      "cell_type": "markdown",
      "metadata": {
        "id": "JlqRuDuaDZK5"
      },
      "source": [
        "# Treinando o modelo."
      ]
    },
    {
      "cell_type": "code",
      "metadata": {
        "id": "5a32KRiVz0Ub"
      },
      "source": [
        "def train_test(model, loader_train, loader_test):\n",
        "\n",
        "  train_loss,test_loss,acc =0,0,0 \n",
        "\n",
        "  model.train()\n",
        "  for imagem_treino,label_treino in loader_train:\n",
        "\n",
        "    loss = 0\n",
        "    imagem_treino, label_treino = imagem_treino.float().to(device), label_treino.to(device)\n",
        "    outputs = model(imagem_treino)\n",
        "    loss = criterion(outputs, label_treino.float().long())\n",
        "    \n",
        "    optimizer.zero_grad()\n",
        "    loss.backward()\n",
        "    optimizer.step()\n",
        "    train_loss += loss\n",
        "\t\n",
        "  train_loss = train_loss/len(loader_train)\n",
        "\n",
        "  model.eval()\n",
        "  correct = 0\n",
        "  total = 0\n",
        "  test_loss = 0\n",
        "\t\n",
        "  with torch.no_grad():\n",
        "\t  for imagem_teste, label_teste in loader_test:\n",
        "\n",
        "\t\t  imagem_teste, label_teste = imagem_teste.float().to(device), label_teste.to(device)\n",
        "\t\t  outputs_test = model(imagem_teste)\n",
        "\t \n",
        "\t\t  _,previsao = torch.max(outputs_test, dim = 1)\n",
        "\t\t  test_loss += criterion(outputs_test, label_teste.long())\n",
        "\t\t  total = total + 1\n",
        "\t\t\t\n",
        "\t\t  if previsao == label_teste: \n",
        "\t\t    correct = correct + 1\n",
        "\t\t\n",
        "\t  test_loss = test_loss/len(loader_test)\n",
        "\n",
        "\t  acc = (correct/total)*100\n",
        "\t \n",
        "\n",
        "  return train_loss, test_loss, acc"
      ],
      "execution_count": 10,
      "outputs": []
    },
    {
      "cell_type": "code",
      "metadata": {
        "id": "A4cXC2AwiGnx",
        "outputId": "86bbffcc-0bc3-4725-bf92-dc234407b99b",
        "colab": {
          "base_uri": "https://localhost:8080/",
          "height": 323
        }
      },
      "source": [
        "START = time.time()\n",
        "\n",
        "list_train_loss = []\n",
        "list_test_loss = []\n",
        "list_acc = []\n",
        "time1epoch = 0\n",
        "\n",
        "lr = 0.005 \n",
        "epochs = 15 \n",
        "optimizer, criterion = define(model, lr)\n",
        "\n",
        "for epoch in range(1, epochs+1):\n",
        "  start = time.time()\n",
        "  train_loss, test_loss, acc = train_test(model, loader_train, loader_test)\n",
        "  end = time.time()\n",
        "\n",
        "  list_train_loss.append(train_loss), list_test_loss.append(test_loss), list_acc.append(acc)\n",
        "\n",
        "  Time = end - start\n",
        "  if epoch == 1:\n",
        "    time1epoch = Time\n",
        "\n",
        "  if epoch < 10:\n",
        "    print('Epoch: ', epoch ,' loss: {:.4f}'.format(test_loss.item()), ' Accuracy: {:.2f}'.format(acc), ' Time spent this epoch: {:.2f}'.format(Time), 'seconds.')\n",
        "  else:\n",
        "    print('Epoch:', epoch ,' loss: {:.4f}'.format(test_loss.item()), ' Accuracy: {:.2f}'.format(acc), ' Time spent this epoch: {:.2f}'.format(Time), 'seconds.')\n",
        "END = time.time()\n",
        "\n",
        "print()\n",
        "TIME = (END - START) - time1epoch\n",
        "print('\\n Time spent during training, excluding first epoch: {:.2f}'.format(TIME), 'seconds.')\t\t"
      ],
      "execution_count": 15,
      "outputs": [
        {
          "output_type": "stream",
          "text": [
            "Epoch:  1  loss: 0.1842  Accuracy: 97.41  Time spent this epoch: 839.80 seconds.\n",
            "Epoch:  2  loss: 0.0942  Accuracy: 98.76  Time spent this epoch: 26.79 seconds.\n",
            "Epoch:  3  loss: 0.0741  Accuracy: 98.99  Time spent this epoch: 26.74 seconds.\n",
            "Epoch:  4  loss: 0.0646  Accuracy: 98.87  Time spent this epoch: 26.76 seconds.\n",
            "Epoch:  5  loss: 0.0622  Accuracy: 98.76  Time spent this epoch: 27.51 seconds.\n",
            "Epoch:  6  loss: 0.0567  Accuracy: 98.99  Time spent this epoch: 26.62 seconds.\n",
            "Epoch:  7  loss: 0.0518  Accuracy: 98.99  Time spent this epoch: 26.64 seconds.\n",
            "Epoch:  8  loss: 0.0481  Accuracy: 98.99  Time spent this epoch: 26.71 seconds.\n",
            "Epoch:  9  loss: 0.0459  Accuracy: 98.99  Time spent this epoch: 26.59 seconds.\n",
            "Epoch: 10  loss: 0.0415  Accuracy: 98.99  Time spent this epoch: 26.58 seconds.\n",
            "Epoch: 11  loss: 0.0406  Accuracy: 98.99  Time spent this epoch: 27.13 seconds.\n",
            "Epoch: 12  loss: 0.0387  Accuracy: 98.99  Time spent this epoch: 26.71 seconds.\n",
            "Epoch: 13  loss: 0.0375  Accuracy: 98.99  Time spent this epoch: 26.73 seconds.\n",
            "Epoch: 14  loss: 0.0359  Accuracy: 98.99  Time spent this epoch: 26.62 seconds.\n",
            "Epoch: 15  loss: 0.0365  Accuracy: 98.99  Time spent this epoch: 26.65 seconds.\n",
            "\n",
            "\n",
            " Time spent during training, excluding first epoch: 374.79 seconds.\n"
          ],
          "name": "stdout"
        }
      ]
    },
    {
      "cell_type": "markdown",
      "metadata": {
        "id": "XxWvKoMUDddR"
      },
      "source": [
        "# Plot dos gráficos de perda e acurácia em cada epoch."
      ]
    },
    {
      "cell_type": "code",
      "metadata": {
        "id": "9oDPX93DdG9C",
        "outputId": "7cc75a59-2a15-4a05-83ac-9957f9ed9f2a",
        "colab": {
          "base_uri": "https://localhost:8080/",
          "height": 585
        }
      },
      "source": [
        "fig, axs = pyplot.subplots(2, figsize=(15,8))\n",
        "axs[0].plot(range(1, epochs+1), list_train_loss,label=\"Train loss\") \n",
        "axs[0].plot(range(1, epochs+1), list_test_loss, label=\"Test loss\")\n",
        "axs[0].set(xticks=range(1, epochs+1))\n",
        "axs[0].set_title('Losses x Epochs') \n",
        "axs[0].set(xlabel='Epochs') \n",
        "axs[0].set(ylabel='Losses') \n",
        "axs[0].legend() \n",
        "axs[0].grid(True) \n",
        "\n",
        "axs[1].plot(range(1, epochs+1), list_acc, label='Accuracy') \n",
        "axs[1].set(xticks=range(1, epochs+1))\n",
        "axs[1].set_title('Accuracy x epochs') \n",
        "axs[1].set(xlabel='Epochs') \n",
        "axs[1].set(ylabel='Accuracy (%)') \n",
        "axs[1].legend(loc='lower right')\n",
        "axs[1].grid(True) \n",
        "\n",
        "pyplot.tight_layout()\n"
      ],
      "execution_count": 16,
      "outputs": [
        {
          "output_type": "display_data",
          "data": {
            "image/png": "[encoded data removed]",
            "text/plain": [
              "<Figure size 1080x576 with 2 Axes>"
            ]
          },
          "metadata": {
            "tags": [],
            "needs_background": "light"
          }
        }
      ]
    },
    {
      "cell_type": "markdown",
      "metadata": {
        "id": "MvNT8mdsDqvN"
      },
      "source": [
        "# Testando o modelo no dataset de teste e obtendo os resultados."
      ]
    },
    {
      "cell_type": "code",
      "metadata": {
        "id": "ROuMWM4WtNlk",
        "outputId": "c056e4f4-783c-47fa-fd75-09cc6cdf903d",
        "colab": {
          "base_uri": "https://localhost:8080/",
          "height": 119
        }
      },
      "source": [
        "total = 0\n",
        "correct = 0\n",
        "loss_valid = 0\n",
        "\n",
        "for imagem_valid, label_valid in loader_valid:\n",
        "\n",
        "\tloss_v = 0\n",
        "\n",
        "\timagem_valid, label_valid = imagem_valid.float().to(device), label_valid.to(device)\n",
        "\toutputs_valid = model(imagem_valid)\n",
        "\t_, previsao = torch.max(outputs_valid, dim = 1)\n",
        "\tloss_v = criterion (outputs_valid, label_valid.long())\n",
        "\ttotal = total + 1 \n",
        "\tif previsao == label_valid: \n",
        "\t\tcorrect = correct + 1 \n",
        "\tloss_valid += loss_v\n",
        "\n",
        "loss_valid = loss_valid/len(loader_valid)\n",
        "accuracy = (correct/total)*100 \n",
        "\n",
        "print('A acurácia obtida foi de: {:.2f}'.format(accuracy) + '%.')\n",
        "print()\n",
        "print('O erro médio obtido foi de: {:.4f}'.format(loss_valid))\n",
        "print()\n",
        "print('O tempo gasto durante o treinamento, excluindo a primeira época, foi de: {:.2f}'.format(TIME), 'segundos.')\n",
        "print()\n"
      ],
      "execution_count": 18,
      "outputs": [
        {
          "output_type": "stream",
          "text": [
            "A acurácia obtida foi de: 98.87%.\n",
            "\n",
            "O erro médio obtido foi de: 0.0488\n",
            "\n",
            "O tempo gasto durante o treinamento, excluindo a primeira época, foi de: 374.79 segundos.\n",
            "\n"
          ],
          "name": "stdout"
        }
      ]
    },
    {
      "cell_type": "markdown",
      "metadata": {
        "id": "GAseX5oA89qo"
      },
      "source": [
        "# Salvando o modelo treinado."
      ]
    },
    {
      "cell_type": "code",
      "metadata": {
        "id": "wLzNBe7UGGzP"
      },
      "source": [
        "torch.save(model, '/content/drive/My Drive/DesafioFinal/model.pt')"
      ],
      "execution_count": 19,
      "outputs": []
    },
    {
      "cell_type": "markdown",
      "metadata": {
        "id": "w1EDJM998SBX"
      },
      "source": [
        "# Implementação da função Predict\n",
        "\n",
        "O objetivo desta função é receber uma imagem de qualquer um dos veículos listados no enunciado do desafio e retornar um número de 0 à 5, sendo:\n",
        "\n",
        "\n",
        "\n",
        "*   **0** = Ferrari Enzo\n",
        "*   **1** = Fiat Uno Way\n",
        "*   **2** = Hummer H1\n",
        "*   **3** = Kawasaki Ninja\n",
        "*   **4** = Volkswagen Worker\n",
        "*   **5** = Imagem de estrada vazia"
      ]
    },
    {
      "cell_type": "code",
      "metadata": {
        "id": "9us1Z7QNQTkj"
      },
      "source": [
        "from PIL import Image\n",
        "from torch.autograd import Variable"
      ],
      "execution_count": 20,
      "outputs": []
    },
    {
      "cell_type": "code",
      "metadata": {
        "id": "jHvbZdyRGG13"
      },
      "source": [
        "def predict(imagem, modelo):\n",
        "  modelo_treinado = torch.load(modelo)\n",
        "  loader = transforms.Compose([transforms.Resize((224,224)), transforms.ToTensor()])\n",
        "\n",
        "  def image_loader(image_name):\n",
        "\n",
        "    image = Image.open(image_name)\n",
        "    image = loader(image).float().to(device)\n",
        "    image = Variable(image, requires_grad=True)\n",
        "    image.unsqueeze(0)\n",
        "    return image.cuda()\n",
        "\n",
        "  image = image_loader(imagem)\n",
        "\n",
        "  saida = modelo_treinado(image[None, ...])\n",
        "  _, previsao = torch.max(saida, dim = 1)\n",
        "\n",
        "  resultado = int(previsao.data[0])\n",
        "\n",
        "  return resultado"
      ],
      "execution_count": 21,
      "outputs": []
    },
    {
      "cell_type": "markdown",
      "metadata": {
        "id": "uy46j_pS9CUO"
      },
      "source": [
        "# Exemplo de chamada da função predict"
      ]
    },
    {
      "cell_type": "code",
      "metadata": {
        "id": "75mtlmjiGG44",
        "outputId": "9b5223ff-fabb-4b1b-c982-2f53c7634792",
        "colab": {
          "base_uri": "https://localhost:8080/",
          "height": 34
        }
      },
      "source": [
        "predict('/content/drive/My Drive/DesafioFinal/imgTeste/cHummer/humm.jpg', '/content/drive/My Drive/DesafioFinal/model.pt')"
      ],
      "execution_count": 22,
      "outputs": [
        {
          "output_type": "execute_result",
          "data": {
            "text/plain": [
              "2"
            ]
          },
          "metadata": {
            "tags": []
          },
          "execution_count": 22
        }
      ]
    }
  ]
}